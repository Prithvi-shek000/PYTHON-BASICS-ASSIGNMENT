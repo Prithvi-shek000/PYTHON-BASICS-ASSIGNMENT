{
  "nbformat": 4,
  "nbformat_minor": 0,
  "metadata": {
    "colab": {
      "provenance": []
    },
    "kernelspec": {
      "name": "python3",
      "display_name": "Python 3"
    },
    "language_info": {
      "name": "python"
    }
  },
  "cells": [
    {
      "cell_type": "code",
      "execution_count": null,
      "metadata": {
        "id": "vUOjz2NMPyl2"
      },
      "outputs": [],
      "source": []
    },
    {
      "cell_type": "markdown",
      "source": [
        "               THEORITICAL QUESTIONS\n",
        "\n",
        "\n",
        "\n",
        "\n",
        "1. What is Python, and why is it popular\n",
        "\n",
        "     Python is commonly used for developing websites and software, task automation, data analysis, and data visualisation.\n",
        "\n",
        "2. What is an interpreter in Python?\n",
        "\n",
        "   A python interpreter is a computer program that converts each high-level program statement into machine code\n",
        "   \n",
        "3. What are pre-defined keywords in Python\n",
        "\n",
        "     a predefined word that python reserves for working programs that have a specific meaning\n",
        "\n",
        "4. Can keywords be used as variable names\n",
        "\n",
        "  No, Python keywords cannot be used as variable names\n",
        "\n",
        "5. What is mutability in Python\n",
        "\n",
        "  In Python, mutability refers to the ability to change an object's value or state after it has been created\n",
        "\n",
        "6. Why are lists mutable, but tuples are immutable\n",
        "\n",
        "   The main difference between tuples and lists is that tuples are immutable, meaning their contents cannot be changed after creation, while lists are mutable and can be modified. Additionally, tuples are more memory-efficient compared to lists. Tuples can't be changed after they're created, but lists can be modified.\n",
        "\n",
        "7. What is the difference between “==” and “is” operators in Python\n",
        "\n",
        "   The main difference between the == and is operators in Python is that == compares the equality of objects, while is compares the identity of objects\n",
        "\n",
        "8. What are logical operators in Python\n",
        "\n",
        "  Logical operators in Python are symbols or words that combine multiple conditions into a single boolean expression\n",
        "\n",
        "9. What is type casting in Python\n",
        "\n",
        "Type casting in Python is the process of changing a variable's data type from one to another\n",
        "\n",
        "10. What is the difference between implicit and explicit type casting\n",
        "\n",
        "The main difference between implicit and explicit type casting is that implicit type casting happens\n",
        "automatically, while explicit type casting requires manual intervention\n",
        "\n",
        "11. What is the purpose of conditional statements in Python\n",
        "\n",
        "The purpose of conditional statements in Python is to control the flow of a program by making decisions based on certain conditions:\n",
        "Efficiency: Conditional statements can make code more efficient by avoiding long and complicated blocks of code.\n",
        "Readability: Conditional statements can make code easier to read.\n",
        "Control flow: Conditional statements determine the direction of code execution based on the output of a given condition.\n",
        "\n",
        "12. How does the elif statement work\n",
        "\n",
        "In Python, elif is short for \"else if\" and is used when the first if statement isn't true, but you want to check for another condition. Meaning, if statements pair up with elif and else statements to perform a series of checks\n",
        "\n",
        "13. What is the difference between for and while loops\n",
        "\n",
        "The main difference between a for loop and a while loop is that a for loop is used when the number of iterations is known in advance, while a while loop is used when the number of iterations is unknown\n",
        "\n",
        "14. Describe a scenario where a while loop is more suitable than a for loop\n",
        "\n",
        "Just use whichever loop seems more appropriate to the task at hand. In general, you should use a for loop when you know how many times the loop should run. If you want the loop to break based on a condition other than the number of times it runs, you should use a while loop"
      ],
      "metadata": {
        "id": "yGeoOA_IP1Vo"
      }
    },
    {
      "cell_type": "markdown",
      "source": [
        "                            PRACTICAL QUESTIONS\n",
        "1. Write a Python program to print \"Hello, World!_\n",
        "\n",
        "\n"
      ],
      "metadata": {
        "id": "BL_cCuoqREFq"
      }
    },
    {
      "cell_type": "code",
      "source": [
        "print(\"Hello, World!\")"
      ],
      "metadata": {
        "colab": {
          "base_uri": "https://localhost:8080/"
        },
        "id": "QiyBkWwdSLAd",
        "outputId": "670a22de-cc2b-4e7d-c065-5d8e853bb8b0"
      },
      "execution_count": null,
      "outputs": [
        {
          "output_type": "stream",
          "name": "stdout",
          "text": [
            "Hello, World!\n"
          ]
        }
      ]
    },
    {
      "cell_type": "markdown",
      "source": [
        "2. Write a Python program that displays your name and age"
      ],
      "metadata": {
        "id": "Rk5IxBTeSbCX"
      }
    },
    {
      "cell_type": "code",
      "source": [
        "print(\"Hii, my name is \\\"Prithvi\\\", and i am \\\"26\\\" years old \")"
      ],
      "metadata": {
        "colab": {
          "base_uri": "https://localhost:8080/"
        },
        "id": "8sYovvxSSstL",
        "outputId": "f011ec1c-601f-4f18-ce97-2dde509d71d0"
      },
      "execution_count": null,
      "outputs": [
        {
          "output_type": "stream",
          "name": "stdout",
          "text": [
            "Hii, my name is \"Prithvi\", and i am \"26\" years old \n"
          ]
        }
      ]
    },
    {
      "cell_type": "markdown",
      "source": [
        "3. Write code to print all the pre-defined keywords in Python using the keyword library"
      ],
      "metadata": {
        "id": "fKSaD0KtTiaU"
      }
    },
    {
      "cell_type": "code",
      "source": [
        "help('keywords')"
      ],
      "metadata": {
        "colab": {
          "base_uri": "https://localhost:8080/"
        },
        "id": "bagUIeHvTq6K",
        "outputId": "cf70ede6-1c45-4ac5-e2e9-42169ce46efa"
      },
      "execution_count": null,
      "outputs": [
        {
          "output_type": "stream",
          "name": "stdout",
          "text": [
            "\n",
            "Here is a list of the Python keywords.  Enter any keyword to get more help.\n",
            "\n",
            "False               class               from                or\n",
            "None                continue            global              pass\n",
            "True                def                 if                  raise\n",
            "and                 del                 import              return\n",
            "as                  elif                in                  try\n",
            "assert              else                is                  while\n",
            "async               except              lambda              with\n",
            "await               finally             nonlocal            yield\n",
            "break               for                 not                 \n",
            "\n"
          ]
        }
      ]
    },
    {
      "cell_type": "markdown",
      "source": [
        "4. Write a program that checks if a given word is a Python keywords"
      ],
      "metadata": {
        "id": "-jSkvHwVT-tB"
      }
    },
    {
      "cell_type": "code",
      "source": [
        "import keyword\n",
        "\n",
        "def check_keyword(word):\n",
        "    if keyword.iskeyword(word):\n",
        "        return f\"'{word}' is a Python keyword.\"\n",
        "    else:\n",
        "        return f\"'{word}' is not a Python keyword.\"\n",
        "\n",
        "# Test the function\n",
        "word = input(\"Enter a word to check if it's a Python keyword: \")\n",
        "print(check_keyword(word))\n"
      ],
      "metadata": {
        "colab": {
          "base_uri": "https://localhost:8080/"
        },
        "id": "YoIeEqU_Xw9M",
        "outputId": "80ce930d-4764-4c7a-b273-eec73ca94379"
      },
      "execution_count": null,
      "outputs": [
        {
          "output_type": "stream",
          "name": "stdout",
          "text": [
            "Enter a word to check if it's a Python keyword: if\n",
            "'if' is a Python keyword.\n"
          ]
        }
      ]
    },
    {
      "cell_type": "markdown",
      "source": [
        "5.  Create a list and tuple in Python, and demonstrate how attempting to change an element works differently\n",
        "for each"
      ],
      "metadata": {
        "id": "D0iefxcEUaE1"
      }
    },
    {
      "cell_type": "code",
      "source": [
        "# Creating a list\n",
        "my_list = [1, 2, 3, 4]\n",
        "print(\"Original List:\", my_list)\n",
        "\n",
        "# Modifying an element in the list\n",
        "my_list[1] = 10  # Changing the element at index 1\n",
        "print(\"Modified List:\", my_list)\n",
        "\n",
        "# Creating a tuple\n",
        "my_tuple = (1, 2, 3, 4)\n",
        "print(\"Original Tuple:\", my_tuple)\n",
        "\n",
        "# Attempting to modify an element in the tuple (will raise an error)\n",
        "try:\n",
        "    my_tuple[1] = 10  # Trying to change the element at index 1\n",
        "except TypeError as e:\n",
        "    print(f\"Error trying to modify tuple: {e}\")\n"
      ],
      "metadata": {
        "colab": {
          "base_uri": "https://localhost:8080/"
        },
        "id": "bXGK8kEcUkpK",
        "outputId": "144a4048-8036-44a2-b442-6e26d95627d4"
      },
      "execution_count": null,
      "outputs": [
        {
          "output_type": "stream",
          "name": "stdout",
          "text": [
            "Original List: [1, 2, 3, 4]\n",
            "Modified List: [1, 10, 3, 4]\n",
            "Original Tuple: (1, 2, 3, 4)\n",
            "Error trying to modify tuple: 'tuple' object does not support item assignment\n"
          ]
        }
      ]
    },
    {
      "cell_type": "markdown",
      "source": [
        "6.Write a function to demonstrate the behavior of mutable and immutable arguments"
      ],
      "metadata": {
        "id": "TS5_BCP3X7N7"
      }
    },
    {
      "cell_type": "code",
      "source": [
        "def demonstrate_mutability(immutable_arg, mutable_arg):\n",
        "    print(\"Before modification:\")\n",
        "    print(f\"Immutable argument: {immutable_arg}\")\n",
        "    print(f\"Mutable argument: {mutable_arg}\")\n",
        "\n",
        "    # Trying to modify immutable argument (doesn't change original)\n",
        "    immutable_arg = 100\n",
        "    # Modifying mutable argument (changes original)\n",
        "    mutable_arg.append(4)\n",
        "\n",
        "    print(\"\\nAfter modification:\")\n",
        "    print(f\"Immutable argument: {immutable_arg}\")  # No change\n",
        "    print(f\"Mutable argument: {mutable_arg}\")  # List has been modified\n",
        "\n",
        "# Test the function\n",
        "immutable_value = 42\n",
        "mutable_value = [1, 2, 3]\n",
        "\n",
        "demonstrate_mutability(immutable_value, mutable_value)\n"
      ],
      "metadata": {
        "colab": {
          "base_uri": "https://localhost:8080/"
        },
        "id": "0tdBOoSoYDkQ",
        "outputId": "0b30e84f-37a9-4c1b-b0d6-635c48c12245"
      },
      "execution_count": null,
      "outputs": [
        {
          "output_type": "stream",
          "name": "stdout",
          "text": [
            "Before modification:\n",
            "Immutable argument: 42\n",
            "Mutable argument: [1, 2, 3]\n",
            "\n",
            "After modification:\n",
            "Immutable argument: 100\n",
            "Mutable argument: [1, 2, 3, 4]\n"
          ]
        }
      ]
    },
    {
      "cell_type": "markdown",
      "source": [
        "7.Write a function to demonstrate the behavior of mutable and immutable arguments"
      ],
      "metadata": {
        "id": "zPFF9POkYQ7p"
      }
    },
    {
      "cell_type": "code",
      "source": [
        "def demonstrate_mutability(immutable_arg, mutable_arg):\n",
        "    print(\"Before modification:\")\n",
        "    print(f\"Immutable argument: {immutable_arg}\")\n",
        "    print(f\"Mutable argument: {mutable_arg}\")\n",
        "\n",
        "    # Modifying immutable argument (new object created, original remains unchanged)\n",
        "    immutable_arg = 100\n",
        "    # Modifying mutable argument (changes the original object)\n",
        "    mutable_arg.append(4)\n",
        "\n",
        "    print(\"\\nAfter modification:\")\n",
        "    print(f\"Immutable argument: {immutable_arg}\")  # This is a new value and won't affect the original\n",
        "    print(f\"Mutable argument: {mutable_arg}\")  # The mutable object is modified in place\n",
        "\n",
        "# Test the function\n",
        "immutable_value = 42\n",
        "mutable_value = [1, 2, 3]\n",
        "\n",
        "demonstrate_mutability(immutable_value, mutable_value)\n"
      ],
      "metadata": {
        "colab": {
          "base_uri": "https://localhost:8080/"
        },
        "id": "XmpNCCZuYZNU",
        "outputId": "8e9ad83d-b959-493a-dbeb-65c5c66a1bb1"
      },
      "execution_count": null,
      "outputs": [
        {
          "output_type": "stream",
          "name": "stdout",
          "text": [
            "Before modification:\n",
            "Immutable argument: 42\n",
            "Mutable argument: [1, 2, 3]\n",
            "\n",
            "After modification:\n",
            "Immutable argument: 100\n",
            "Mutable argument: [1, 2, 3, 4]\n"
          ]
        }
      ]
    },
    {
      "cell_type": "markdown",
      "source": [
        "8.Write a program to demonstrate the use of logical operators"
      ],
      "metadata": {
        "id": "zoxl320BYtLn"
      }
    },
    {
      "cell_type": "code",
      "source": [
        "def demonstrate_logical_operators(a, b):\n",
        "    # Using 'and' operator: True if both a and b are True\n",
        "    if a > 0 and b > 0:\n",
        "        print(f\"Both {a} and {b} are positive.\")\n",
        "    else:\n",
        "        print(f\"One or both of {a} and {b} are not positive.\")\n",
        "\n",
        "    # Using 'or' operator: True if at least one of a or b is True\n",
        "    if a > 0 or b > 0:\n",
        "        print(f\"At least one of {a} or {b} is positive.\")\n",
        "    else:\n",
        "        print(f\"Neither {a} nor {b} is positive.\")\n",
        "\n",
        "    # Using 'not' operator: Reverses the boolean value of a condition\n",
        "    if not (a < 0):\n",
        "        print(f\"{a} is not negative.\")\n",
        "    else:\n",
        "        print(f\"{a} is negative.\")\n",
        "\n",
        "# Test the function\n",
        "a = 5\n",
        "b = -3\n",
        "\n",
        "demonstrate_logical_operators(a, b)\n"
      ],
      "metadata": {
        "colab": {
          "base_uri": "https://localhost:8080/"
        },
        "id": "ZbpRjovFYw6w",
        "outputId": "54832197-99fe-4f63-d214-9dea19af143a"
      },
      "execution_count": null,
      "outputs": [
        {
          "output_type": "stream",
          "name": "stdout",
          "text": [
            "One or both of 5 and -3 are not positive.\n",
            "At least one of 5 or -3 is positive.\n",
            "5 is not negative.\n"
          ]
        }
      ]
    },
    {
      "cell_type": "markdown",
      "source": [
        "9. Write a Python program to convert user input from string to integer, float, and boolean types"
      ],
      "metadata": {
        "id": "0BmBiTCwZAY3"
      }
    },
    {
      "cell_type": "code",
      "source": [
        "def convert_input():\n",
        "    # Get user input as a string\n",
        "    user_input = input(\"Enter a value: \")\n",
        "\n",
        "    # Convert the input to integer, float, and boolean types\n",
        "    try:\n",
        "        int_value = int(user_input)\n",
        "        print(f\"Converted to integer: {int_value}\")\n",
        "    except ValueError:\n",
        "        print(\"Cannot convert to integer.\")\n",
        "\n",
        "    try:\n",
        "        float_value = float(user_input)\n",
        "        print(f\"Converted to float: {float_value}\")\n",
        "    except ValueError:\n",
        "        print(\"Cannot convert to float.\")\n",
        "\n",
        "    # Convert to boolean:\n",
        "    # Any non-empty string is considered True, empty string is False\n",
        "    bool_value = bool(user_input)\n",
        "    print(f\"Converted to boolean: {bool_value}\")\n",
        "\n",
        "# Run the function\n",
        "convert_input()\n"
      ],
      "metadata": {
        "colab": {
          "base_uri": "https://localhost:8080/"
        },
        "id": "W5tpwsPsZcBR",
        "outputId": "7c2dcb56-2ffb-480e-a078-2e7ae3362c94"
      },
      "execution_count": null,
      "outputs": [
        {
          "output_type": "stream",
          "name": "stdout",
          "text": [
            "Enter a value: 123\n",
            "Converted to integer: 123\n",
            "Converted to float: 123.0\n",
            "Converted to boolean: True\n"
          ]
        }
      ]
    },
    {
      "cell_type": "markdown",
      "source": [
        "10.Write code to demonstrate type casting with list elements"
      ],
      "metadata": {
        "id": "wNOpLjUh_53v"
      }
    },
    {
      "cell_type": "code",
      "source": [
        "def demonstrate_type_casting():\n",
        "    # Original list with string elements representing different types of data\n",
        "    mixed_list = ['123', '45.67', 'True', 'False', '0', 'hello', '', '1']\n",
        "\n",
        "    print(\"Original list:\", mixed_list)\n",
        "\n",
        "    # Convert list elements to integers\n",
        "    int_list = [int(float(item)) if item.replace('.', '', 1).isdigit() else 0 for item in mixed_list]\n",
        "    print(\"\\nList after converting to integers:\", int_list)\n",
        "\n",
        "    # Convert list elements to floats\n",
        "    # Changed this line to handle 'True' and 'False' before applying float()\n",
        "    float_list = [float(item) if item.replace('.', '', 1).isdigit() else (1.0 if item.lower() == 'true' else (0.0 if item.lower() == 'false' else 0.0)) for item in mixed_list]\n",
        "    print(\"\\nList after converting to floats:\", float_list)\n",
        "\n",
        "    # Convert list elements to booleans\n",
        "    bool_list = [bool(item) for item in mixed_list]\n",
        "    print(\"\\nList after converting to booleans:\", bool_list)\n",
        "\n",
        "    # Convert list elements to strings\n",
        "    str_list = [str(item) for item in mixed_list]\n",
        "    print(\"\\nList after converting to strings:\", str_list)\n",
        "\n",
        "# Run the function\n",
        "demonstrate_type_casting()"
      ],
      "metadata": {
        "colab": {
          "base_uri": "https://localhost:8080/"
        },
        "id": "VzjoSw5NAXOZ",
        "outputId": "227c24dc-84c9-4b9a-9a51-1e86a5ac8970"
      },
      "execution_count": null,
      "outputs": [
        {
          "output_type": "stream",
          "name": "stdout",
          "text": [
            "Original list: ['123', '45.67', 'True', 'False', '0', 'hello', '', '1']\n",
            "\n",
            "List after converting to integers: [123, 45, 0, 0, 0, 0, 0, 1]\n",
            "\n",
            "List after converting to floats: [123.0, 45.67, 1.0, 0.0, 0.0, 0.0, 0.0, 1.0]\n",
            "\n",
            "List after converting to booleans: [True, True, True, True, True, True, False, True]\n",
            "\n",
            "List after converting to strings: ['123', '45.67', 'True', 'False', '0', 'hello', '', '1']\n"
          ]
        }
      ]
    },
    {
      "cell_type": "markdown",
      "source": [
        "11.Write a program that checks if a number is positive, negative, or zero"
      ],
      "metadata": {
        "id": "S62OdSjgBJzG"
      }
    },
    {
      "cell_type": "code",
      "source": [
        "def check_number():\n",
        "    # Get user input\n",
        "    try:\n",
        "        num = float(input(\"Enter a number: \"))  # Convert input to a float\n",
        "        if num > 0:\n",
        "            print(\"The number is positive.\")\n",
        "        elif num < 0:\n",
        "            print(\"The number is negative.\")\n",
        "        else:\n",
        "            print(\"The number is zero.\")\n",
        "    except ValueError:\n",
        "        print(\"Please enter a valid number.\")\n",
        "\n",
        "# Call the function to check the number\n",
        "check_number()\n",
        "\n"
      ],
      "metadata": {
        "colab": {
          "base_uri": "https://localhost:8080/"
        },
        "id": "VpQDfDT8BOMH",
        "outputId": "661b977d-e46f-42c6-c1a0-29e8425b66f5"
      },
      "execution_count": null,
      "outputs": [
        {
          "output_type": "stream",
          "name": "stdout",
          "text": [
            "Enter a number: 5\n",
            "The number is positive.\n"
          ]
        }
      ]
    },
    {
      "cell_type": "markdown",
      "source": [
        "12. Write a for loop to print numbers from 1 to 10"
      ],
      "metadata": {
        "id": "GAxwJd8oCWxO"
      }
    },
    {
      "cell_type": "code",
      "source": [
        "# For loop to print numbers from 1 to 10\n",
        "for i in range(1, 11):\n",
        "    print(i)\n"
      ],
      "metadata": {
        "colab": {
          "base_uri": "https://localhost:8080/"
        },
        "id": "n0mAX54LCdcs",
        "outputId": "bf107c2f-450f-4c1a-ca7d-1215ac4b8d21"
      },
      "execution_count": null,
      "outputs": [
        {
          "output_type": "stream",
          "name": "stdout",
          "text": [
            "1\n",
            "2\n",
            "3\n",
            "4\n",
            "5\n",
            "6\n",
            "7\n",
            "8\n",
            "9\n",
            "10\n"
          ]
        }
      ]
    },
    {
      "cell_type": "markdown",
      "source": [
        "13.Write a Python program to find the sum of all even numbers between 1 and 50\n"
      ],
      "metadata": {
        "id": "B7tslbXHCo1Q"
      }
    },
    {
      "cell_type": "code",
      "source": [
        "# Initialize the sum variable\n",
        "sum_even = 0\n",
        "\n",
        "# Loop through numbers from 1 to 50\n",
        "for num in range(1, 51):\n",
        "    if num % 2 == 0:  # Check if the number is even\n",
        "        sum_even += num  # Add the even number to the sum\n",
        "\n",
        "# Print the sum of all even numbers between 1 and 50\n",
        "print(\"The sum of all even numbers between 1 and 50 is:\", sum_even)\n"
      ],
      "metadata": {
        "colab": {
          "base_uri": "https://localhost:8080/"
        },
        "id": "jVNEP6ODCwMz",
        "outputId": "becdf02e-8ecc-43f9-9163-f49005dbc35f"
      },
      "execution_count": null,
      "outputs": [
        {
          "output_type": "stream",
          "name": "stdout",
          "text": [
            "The sum of all even numbers between 1 and 50 is: 650\n"
          ]
        }
      ]
    },
    {
      "cell_type": "markdown",
      "source": [
        "14. Write a program to reverse a string using a while loop"
      ],
      "metadata": {
        "id": "XKgkz4pxC8wb"
      }
    },
    {
      "cell_type": "code",
      "source": [
        "def reverse_string(input_string):\n",
        "    reversed_string = \"\"  # Initialize an empty string to hold the reversed string\n",
        "    index = len(input_string) - 1  # Start from the last character of the string\n",
        "\n",
        "    # Use a while loop to iterate through the string in reverse order\n",
        "    while index >= 0:\n",
        "        reversed_string += input_string[index]  # Add the character to the reversed string\n",
        "        index -= 1  # Move to the previous character\n",
        "\n",
        "    return reversed_string\n",
        "\n",
        "# Input from the user\n",
        "user_input = input(\"Enter a string: \")\n",
        "\n",
        "# Call the function and print the reversed string\n",
        "print(\"Reversed string:\", reverse_string(user_input))\n"
      ],
      "metadata": {
        "colab": {
          "base_uri": "https://localhost:8080/"
        },
        "id": "sz2BE_13DVM7",
        "outputId": "dbd0911f-6097-408c-8818-fe78095e2af0"
      },
      "execution_count": null,
      "outputs": [
        {
          "output_type": "stream",
          "name": "stdout",
          "text": [
            "Enter a string: shekhawat\n",
            "Reversed string: tawahkehs\n"
          ]
        }
      ]
    },
    {
      "cell_type": "markdown",
      "source": [
        "15. Write a Python program to calculate the factorial of a number provided by the user using a while loop"
      ],
      "metadata": {
        "id": "lU0dbRPBDawV"
      }
    },
    {
      "cell_type": "code",
      "source": [
        "def calculate_factorial():\n",
        "    # Get user input\n",
        "    number = int(input(\"Enter a number: \"))\n",
        "\n",
        "    # Initialize variables\n",
        "    factorial = 1\n",
        "    i = 1\n",
        "\n",
        "    # Check for negative number\n",
        "    if number < 0:\n",
        "        print(\"Factorial does not exist for negative numbers.\")\n",
        "    else:\n",
        "        # Calculate factorial using while loop\n",
        "        while i <= number:\n",
        "            factorial *= i  # Multiply factorial by i\n",
        "            i += 1  # Increment i\n",
        "\n",
        "        # Print the result\n",
        "        print(f\"The factorial of {number} is {factorial}\")\n",
        "\n",
        "# Call the function\n",
        "calculate_factorial()\n"
      ],
      "metadata": {
        "colab": {
          "base_uri": "https://localhost:8080/"
        },
        "id": "WdkCDLhIDgO_",
        "outputId": "cdc04eed-eb8d-48b5-f467-9d7d63f9be9e"
      },
      "execution_count": null,
      "outputs": [
        {
          "output_type": "stream",
          "name": "stdout",
          "text": [
            "Enter a number: 0\n",
            "The factorial of 0 is 1\n"
          ]
        }
      ]
    }
  ]
}